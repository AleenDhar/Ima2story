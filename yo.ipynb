{
 "cells": [
  {
   "cell_type": "code",
   "execution_count": 1,
   "metadata": {},
   "outputs": [],
   "source": [
    "from transformers import pipeline\n",
    "import pyttsx3"
   ]
  },
  {
   "cell_type": "code",
   "execution_count": 2,
   "metadata": {},
   "outputs": [],
   "source": [
    "#image to text\n",
    "def image2text(url):\n",
    "    image_to_text =pipeline(\"image-to-text\",model=\"Salesforce/blip-image-captioning-base\")\n",
    "\n",
    "    text=image_to_text(url)[0]['generated_text']\n",
    "    print(text)\n",
    "    return text\n",
    "\n",
    "#text to speech\n",
    "engine = pyttsx3.init('sapi5')\n",
    "voices = engine.getProperty('voices')\n",
    "engine.setProperty('voice', voices[0].id)\n",
    "\n",
    "\n",
    "def speak(audio):\n",
    "    engine.say(audio)\n",
    "    engine.runAndWait()\n"
   ]
  },
  {
   "cell_type": "code",
   "execution_count": 3,
   "metadata": {},
   "outputs": [
    {
     "name": "stdout",
     "output_type": "stream",
     "text": [
      "WARNING:tensorflow:From c:\\Users\\DG\\AppData\\Local\\Programs\\Python\\Python311\\Lib\\site-packages\\tf_keras\\src\\losses.py:2976: The name tf.losses.sparse_softmax_cross_entropy is deprecated. Please use tf.compat.v1.losses.sparse_softmax_cross_entropy instead.\n",
      "\n"
     ]
    },
    {
     "name": "stderr",
     "output_type": "stream",
     "text": [
      "c:\\Users\\DG\\AppData\\Local\\Programs\\Python\\Python311\\Lib\\site-packages\\torch\\_utils.py:831: UserWarning: TypedStorage is deprecated. It will be removed in the future and UntypedStorage will be the only storage class. This should only matter to you if you are using storages directly.  To access UntypedStorage directly, use tensor.untyped_storage() instead of tensor.storage()\n",
      "  return self.fget.__get__(instance, owner)()\n",
      "c:\\Users\\DG\\AppData\\Local\\Programs\\Python\\Python311\\Lib\\site-packages\\transformers\\generation\\utils.py:1178: UserWarning: Using the model-agnostic default `max_length` (=20) to control the generation length. We recommend setting `max_new_tokens` to control the maximum length of the generation.\n",
      "  warnings.warn(\n"
     ]
    },
    {
     "name": "stdout",
     "output_type": "stream",
     "text": [
      "two girls standing on a bridge\n"
     ]
    }
   ],
   "source": [
    "text=image2text(\"photo2.jpg\")"
   ]
  },
  {
   "cell_type": "code",
   "execution_count": 10,
   "metadata": {},
   "outputs": [],
   "source": [
    "from langchain.prompts import PromptTemplate\n",
    "from langchain.chains import LLMChain, SequentialChain \n",
    "from langchain.memory import ConversationBufferMemory\n",
    "from langchain.utilities import WikipediaAPIWrapper \n",
    "from langchain_community.chat_models import ChatOllama\n",
    "from langchain_community.utilities import SerpAPIWrapper\n",
    "\n",
    "prompt=text\n",
    "\n",
    "title_template = PromptTemplate(\n",
    "    input_variables = ['topic'],\n",
    "    template='write me a Story title about {topic}'\n",
    ")\n",
    "script_template = PromptTemplate(\n",
    "    input_variables = ['title', 'wikipedia_research'],\n",
    "    template='write me a Stroy based on this title {title} while leveraging this wikipedia reserch:{wikipedia_research} '\n",
    ")"
   ]
  },
  {
   "cell_type": "code",
   "execution_count": 7,
   "metadata": {},
   "outputs": [],
   "source": [
    "\n",
    "wiki = WikipediaAPIWrapper()\n",
    "\n",
    "title_memory = ConversationBufferMemory(input_key='topic', memory_key='chat_history')\n",
    "script_memory = ConversationBufferMemory(input_key='title', memory_key='chat_history')\n",
    "\n",
    "llm = ChatOllama(model=\"llama2\")\n",
    "title_chain = LLMChain(llm=llm, prompt=title_template, verbose=True, output_key='title', memory=title_memory)\n",
    "script_chain = LLMChain(llm=llm, prompt=script_template, verbose=True, output_key='script', memory=script_memory)\n"
   ]
  },
  {
   "cell_type": "code",
   "execution_count": 8,
   "metadata": {},
   "outputs": [
    {
     "name": "stdout",
     "output_type": "stream",
     "text": [
      "two girls standing on a bridge\n",
      "\n",
      "\n",
      "\u001b[1m> Entering new LLMChain chain...\u001b[0m\n",
      "Prompt after formatting:\n",
      "\u001b[32;1m\u001b[1;3mwrite me a Story title about two girls standing on a bridge\u001b[0m\n",
      "\n",
      "\u001b[1m> Finished chain.\u001b[0m\n",
      "\n",
      "\n",
      "\u001b[1m> Entering new LLMChain chain...\u001b[0m\n",
      "Prompt after formatting:\n",
      "\u001b[32;1m\u001b[1;3mwrite me a Strot based on this title TITLE:  Title: The Bridge of Secrets\n",
      "\n",
      "It was a crisp autumn day when two girls, Emily and Sarah, stood on the old wooden bridge that spanned the narrow river. The bridge creaked beneath their feet as they gazed out at the swirling waters below. The sun was setting, casting a golden glow over the landscape, but the girls were lost in their own world of secrets and whispers.\n",
      "\n",
      "Emily had brought Sarah to this remote location, hoping to share a secret that could change everything between them. Sarah was hesitant at first, but as they stood there, the wind rustling through their hair, she felt a sense of comfort and trust in Emily's presence.\n",
      "\n",
      "\"I have something to tell you,\" Emily said, her voice barely above a whisper. \"Something I've been keeping hidden for a long time.\"\n",
      "\n",
      "Sarah's eyes locked onto Emily's, her heart racing with anticipation. \"What is it?\" she asked, her voice trembling.\n",
      "\n",
      "Emily took a deep breath before continuing. \"I'm not who you think I am,\" she revealed, her eyes locking onto Sarah's in a piercing stare. \"My real name is Samantha, and I've been living a lie for as long as I can remember.\"\n",
      "\n",
      "Sarah's jaw dropped in shock, her mind reeling with the revelation. She had known Emily since childhood, had considered her one of her closest friends. But now, everything she thought she knew about Emily was turning out to be a deception.\n",
      "\n",
      "As they stood there on the bridge, the water rushing beneath their feet, Sarah couldn't help but wonder what other secrets Emily might be hiding. The trust between them had been shattered, and the girls were left to navigate the treacherous waters of betrayal and forgiveness. while leveraging this wikipedia reserch:Page: Frankie Bridge\n",
      "Summary: Francesca Bridge (née Sandford, born 14 January 1989) is an English singer, formerly a member of S Club Juniors and a member of girl group The Saturdays. Bridge began her career when she auditioned for Simon Fuller's reality television competition S Club Search in 2001, broadcast on CBBC. She successfully auditioned and won a place in the pop group S Club Juniors. Bridge and the rest of the group then starred in their own reality TV show S Club Junior: The Story. Together with the band, Bridge successfully released seven singles and two albums. Whilst in the group, she made an appearance in S Club 7's TV show Viva S Club. The group then began featuring in their own children's musical television programme I Dream. Bridge played a main role in the show and went onto release the duet single \"Dreaming\" along with fellow S Club 8 member Calvin Goldspink.\n",
      "In 2007, Bridge went on to successfully audition for the girlband The Saturdays. The group were immediately signed to Polydor and Fascination Records and later gained a record deal with Geffen Records after having huge success in the United Kingdom. Bridge and the rest of the group later signed a deal with Island Def Jam and Mercury worth US$1.5 million to distribute their music in the US, which led to her first UK number-one single \"What About Us\". Throughout Bridge's time in the music industry, she has achieved 19 UK top-ten singles and six UK top-ten albums. In late 2017, Bridge decided to pursue a solo career in music, signing a record deal with both Polydor and Fascination Records, the labels Bridge has been signed to since she was 11 years old. Her debut solo album was expected to be released in 2019, however it was shelved so Bridge could focus on motherhood. Bridge's 16 years in the music industry has led her to sell an estimated 10 million records worldwide.\n",
      "Bridge gained higher prominence as a style icon in the UK, and her signature style short hair started a trend around the UK. She has had a successful career in television as well as performing, she has been a part of two reality television series of her own: The Saturdays: 24/7 and Chasing the Saturdays. She was also involved in Ghosthunting With... in 2010. In 2014, Bridge took part in the twelfth series of Strictly Come Dancing where she was the runner-up of the series, and in 2017 she began presenting Cannonball. She has been married to footballer Wayne Bridge since 2014, and together, the couple have two sons. As of 2021, Bridge's net worth stands at £11 million, the highest of all the members of the Saturdays. In November 2021, Bridge was a contestant on the twenty-first series of I'm a Celebrity...Get Me Out of Here! and finished in third place.\n",
      "\n",
      "Page: Indigo Girls\n",
      "Summary: Indigo Girls are an American folk rock music duo from Atlanta, Georgia, United States, consisting of Amy Ray and Emily Saliers. The two met in elementary school and began performing together as high school students in Decatur, Georgia, part of the Atlanta metropolitan area. They started performing with the name Indigo Girls as students at Emory University, performing weekly at The Dugout, a bar in Emory Village.\n",
      "They released a full-length record album entitled Strange Fire in 1987, and contracted with a major record company in 1988. After releasing nine albums with major record labels from 1987 through 2007, they formed the IG Recordings company in 2009 and resumed self-producing albums.Outside of working on Indigo Girls–related projects, Ray has released solo albums and founded a non-profit recording label that promotes independent musicians. Saliers is an entrepreneur in the restaurant industry as well as a professional author; she also collaborates with her father, Don Saliers, in performing for special groups and causes. Saliers and Ray are both lesbians, though not a romantic couple, and are active in political and environmental causes. They are regarded as queer icons.\n",
      "\n",
      "Page: The SoapGirls\n",
      "Summary: The Soap \u001b[0m\n",
      "\n",
      "\u001b[1m> Finished chain.\u001b[0m\n"
     ]
    }
   ],
   "source": [
    "\n",
    "if prompt: \n",
    "    print(prompt)\n",
    "    title = title_chain.run(prompt)\n",
    "    wiki_research = wiki.run(prompt)\n",
    "    script = script_chain.run(title=title, wikipedia_research=wiki_research)\n",
    "\n",
    "\n"
   ]
  },
  {
   "cell_type": "code",
   "execution_count": 9,
   "metadata": {},
   "outputs": [
    {
     "name": "stdout",
     "output_type": "stream",
     "text": [
      "Title: Title: The Bridge of Secrets\n",
      "\n",
      "It was a crisp autumn day when two girls, Emily and Sarah, stood on the old wooden bridge that spanned the narrow river. The bridge creaked beneath their feet as they gazed out at the swirling waters below. The sun was setting, casting a golden glow over the landscape, but the girls were lost in their own world of secrets and whispers.\n",
      "\n",
      "Emily had brought Sarah to this remote location, hoping to share a secret that could change everything between them. Sarah was hesitant at first, but as they stood there, the wind rustling through their hair, she felt a sense of comfort and trust in Emily's presence.\n",
      "\n",
      "\"I have something to tell you,\" Emily said, her voice barely above a whisper. \"Something I've been keeping hidden for a long time.\"\n",
      "\n",
      "Sarah's eyes locked onto Emily's, her heart racing with anticipation. \"What is it?\" she asked, her voice trembling.\n",
      "\n",
      "Emily took a deep breath before continuing. \"I'm not who you think I am,\" she revealed, her eyes locking onto Sarah's in a piercing stare. \"My real name is Samantha, and I've been living a lie for as long as I can remember.\"\n",
      "\n",
      "Sarah's jaw dropped in shock, her mind reeling with the revelation. She had known Emily since childhood, had considered her one of her closest friends. But now, everything she thought she knew about Emily was turning out to be a deception.\n",
      "\n",
      "As they stood there on the bridge, the water rushing beneath their feet, Sarah couldn't help but wonder what other secrets Emily might be hiding. The trust between them had been shattered, and the girls were left to navigate the treacherous waters of betrayal and forgiveness. Script:The Bridge of Secrets\n",
      "\n",
      "Emily and Sarah stood on the wooden bridge, the river rushing beneath their feet. The sun was setting, casting a golden glow over the landscape, but the girls were lost in their own world of secrets and whispers. Emily had brought Sarah to this remote location, hoping to share a secret that could change everything between them.\n",
      "\n",
      "\"I have something to tell you,\" Emily said, her voice barely above a whisper. \"Something I've been keeping hidden for a long time.\"\n",
      "\n",
      "Sarah's eyes locked onto Emily's, her heart racing with anticipation. \"What is it?\" she asked, her voice trembling.\n",
      "\n",
      "Emily took a deep breath before continuing. \"I'm not who you think I am,\" she revealed, her eyes locking onto Sarah's in a piercing stare. \"My real name is Samantha, and I've been living a lie for as long as I can remember.\"\n",
      "\n",
      "Sarah's jaw dropped in shock, her mind reeling with the revelation. She had known Emily since childhood, had considered her one of her closest friends. But now, everything she thought she knew about Emily was turning out to be a deception.\n",
      "\n",
      "As they stood there on the bridge, the water rushing beneath their feet, Sarah couldn't help but wonder what other secrets Emily might be hiding. The trust between them had been shattered, and the girls were left to navigate the treacherous waters of betrayal and forgiveness.\n",
      "\n",
      "Emily's eyes seemed to bore into Sarah's, as if daring her to confront the truth. \"I know this will change everything between us,\" Emily said, her voice barely above a whisper. \"But I can't keep living this lie. I need you to understand.\"\n",
      "\n",
      "Sarah's mind raced with questions and doubts, but she couldn't find her voice. She felt like she was drowning in a sea of secrets and lies, unable to find the surface for air.\n",
      "\n",
      "As the sun dipped below the horizon, casting the bridge in a golden glow, Sarah finally found her voice. \"Why?\" she asked, her voice trembling. \"Why did you keep this from me?\"\n",
      "\n",
      "Emily's eyes filled with tears, and she took a deep breath before speaking. \"I was scared,\" she said, her voice barely above a whisper. \"Scared of losing you, of being rejected. I didn't know how you would react, so I kept it hidden.\"\n",
      "\n",
      "Sarah's heart ached with empathy, her eyes filling with tears as she saw the pain and vulnerability in Emily's eyes. She knew that forgiveness wouldn't be easy, but she also knew that their friendship was worth fighting for.\n",
      "\n",
      "As the bridge faded into darkness, Sarah reached out to Emily, her hand grasping hers like a lifeline. \"I forgive you,\" she said, her voice barely above a whisper. \"But I need time to understand.\"\n",
      "\n",
      "Emily's eyes filled with gratitude, and she smiled weakly at Sarah. \"Thank you,\" she said, her voice barely above a whisper. \"Thank you for understanding.\"\n",
      "\n",
      "As they stood there on the bridge of secrets, the girls knew that their friendship would never be the same. But they also knew that their bond was strong enough to withstand even the most shocking revelations.\n"
     ]
    }
   ],
   "source": [
    "speak(f\"Title:{title} Script:{script}\")\n",
    "\n",
    "print(f\"Title:{title} Script:{script}\")"
   ]
  },
  {
   "cell_type": "code",
   "execution_count": 11,
   "metadata": {},
   "outputs": [
    {
     "name": "stderr",
     "output_type": "stream",
     "text": [
      "c:\\Users\\DG\\AppData\\Local\\Programs\\Python\\Python311\\Lib\\site-packages\\huggingface_hub\\utils\\_deprecation.py:131: FutureWarning: 'InferenceApi' (from 'huggingface_hub.inference_api') is deprecated and will be removed from version '1.0'. `InferenceApi` client is deprecated in favor of the more feature-complete `InferenceClient`. Check out this guide to learn how to convert your script to use it: https://huggingface.co/docs/huggingface_hub/guides/inference#legacy-inferenceapi-client.\n",
      "  warnings.warn(warning_message, FutureWarning)\n"
     ]
    }
   ],
   "source": [
    "from langchain import HuggingFaceHub\n",
    "\n",
    "llm=HuggingFaceHub(repo_id=\"google/flan-t5-xl\", \n",
    "                                        model_kwargs={\"temperature\":0, \n",
    "                                                      \"max_length\":64})"
   ]
  },
  {
   "cell_type": "code",
   "execution_count": null,
   "metadata": {},
   "outputs": [],
   "source": [
    "llm.invoke(\"hi\")"
   ]
  }
 ],
 "metadata": {
  "kernelspec": {
   "display_name": "Python 3",
   "language": "python",
   "name": "python3"
  },
  "language_info": {
   "codemirror_mode": {
    "name": "ipython",
    "version": 3
   },
   "file_extension": ".py",
   "mimetype": "text/x-python",
   "name": "python",
   "nbconvert_exporter": "python",
   "pygments_lexer": "ipython3",
   "version": "3.11.1"
  }
 },
 "nbformat": 4,
 "nbformat_minor": 2
}
